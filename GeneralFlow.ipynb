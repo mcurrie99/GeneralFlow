{
 "cells": [
  {
   "cell_type": "code",
   "execution_count": 1,
   "metadata": {},
   "outputs": [],
   "source": [
    "import numpy as np\n",
    "import scipy.integrate as spint\n",
    "import scipy.optimize as spy\n",
    "import CoolProp.CoolProp as CP\n",
    "import matplotlib.pyplot as plt\n",
    "import pint\n",
    "import fluids\n",
    "import pandas as pd\n",
    "import GeneralFlow as GF"
   ]
  },
  {
   "cell_type": "markdown",
   "metadata": {},
   "source": [
    "# General Compressible Flow Setup"
   ]
  },
  {
   "cell_type": "code",
   "execution_count": 2,
   "metadata": {},
   "outputs": [],
   "source": [
    "# Unit Conversions and Formats Graphs\n",
    "u = pint.UnitRegistry(autoconvert_offset_to_baseunit=True)\n",
    "u.setup_matplotlib()\n",
    "plt.rcParams['figure.figsize'] = [12, 10]\n",
    "plt.rcParams['figure.dpi'] = 100 # 200 e.g. is really fine, but slower"
   ]
  },
  {
   "cell_type": "code",
   "execution_count": 3,
   "metadata": {},
   "outputs": [
    {
     "data": {
      "text/plain": [
       "{'dMdA': 1.2,\n",
       " 'dMdH0': -2.1999999999999997,\n",
       " 'dMdf': -3.3599999999999994,\n",
       " 'dMdmdot': -7.919999999999999,\n",
       " 'dMdMW': 2.1999999999999997,\n",
       " 'dMdgamma': -1.0}"
      ]
     },
     "execution_count": 3,
     "metadata": {},
     "output_type": "execute_result"
    }
   ],
   "source": [
    "GF.GeneralFlow.findInfCoeffMach(1.4, 2.)"
   ]
  },
  {
   "cell_type": "code",
   "execution_count": 4,
   "metadata": {},
   "outputs": [],
   "source": [
    "# Old outputs for comparison\n",
    "# Givens\n",
    "T1 = 300\n",
    "P1 = 101325\n",
    "epsilon = 1e-05\n",
    "D = (0.5 * u.inches).to('meters').magnitude\n",
    "rho1 = CP.PropsSI('D', 'T', T1, 'P', P1, 'helium')\n",
    "visc = CP.PropsSI('V', 'T', T1, 'P', P1, 'helium')\n",
    "vel = 40\n",
    "Re = rho1 * vel * D / visc\n",
    "\n",
    "gamma = CP.PropsSI('isentropic_expansion_coefficient', 'T', T1, 'P', P1, 'helium')\n",
    "Ru = CP.PropsSI('gas_constant', 'T', T1, 'P', P1, 'helium') * 1000\n",
    "Cp = CP.PropsSI('CP0MASS', 'T', T1, 'P', P1, 'helium')\n",
    "MW = CP.PropsSI('M', 'T', T1, 'P', P1, 'helium') * 1000\n",
    "R = Ru / MW\n",
    "\n",
    "a1 = np.sqrt(gamma * R * T1)\n",
    "M1 = vel / a1\n",
    "\n",
    "\n",
    "rho = P1 / R / T1\n",
    "\n",
    "# print(gamma)\n",
    "# print(Ru)\n",
    "# print(MW)\n",
    "# print(a1)\n",
    "# print(M1)\n",
    "# print(Cp)\n",
    "\n",
    "# Friction Factor Calculations\n",
    "fricFactorNormFunc = lambda f : -2.0 * np.log10(epsilon / (3.7 * D) + 2.51 / (Re * np.sqrt(f))) - 1 / np.sqrt(f)\n",
    "fricFactorFannoFunc = lambda f : -4.0 * np.log10(epsilon / (3.7 * D) + 1.255 / (Re * np.sqrt(f))) - 1 / np.sqrt(f)\n",
    "\n",
    "fricFactorNorm = spy.fsolve(fricFactorNormFunc, 0.01)\n",
    "fricFactorFanno = spy.fsolve(fricFactorFannoFunc, 0.01)\n",
    "\n",
    "# print(fricFactorNorm)\n",
    "# print(fricFactorFanno)\n",
    "# print(fricFactorFanno * 4)\n",
    "\n",
    "\n",
    "f = (0.790 * np.log(Re) - 1.64)**(-2)\n",
    "# print(f)\n",
    "\n",
    "Pr = CP.PropsSI('Prandtl', 'T', T1, 'P', P1, 'helium')\n",
    "\n",
    "Nu1 = 0.023 * Re ** 0.8 * Pr ** 0.3\n",
    "Nu2 = 0.125 * f * Re * Pr**(1/3)\n",
    "# print(Nu1)\n",
    "# print(Nu2)\n",
    "\n",
    "\n",
    "# General Analytical Solving\n",
    "M2 = np.linspace(M1, 1, 100000)\n",
    "\n",
    "strangeNum = 1 + (gamma - 1) / 2 * M2**2\n",
    "strangeDen = 1 + (gamma - 1) / 2 * M1**2\n",
    "\n",
    "L = (D / (4 * fricFactorFanno)) * ((1 / gamma) * (1 / M1**2 - 1 / M2**2) + (gamma + 1) / (2 * gamma) * np.log((M1**2 / M2**2) * (strangeNum / strangeDen)))\n",
    "Tanalytical = T1 * ((2 + (gamma - 1) * np.power(M1, 2)) / (2 + (gamma - 1) * np.power(M2, 2)))\n",
    "Panalytical = P1 * (M1 / M2) * np.sqrt((2 + (gamma - 1) * np.power(M1, 2)) / (2 + (gamma - 1) * np.power(M2, 2)))\n",
    "Vanalytical = vel * M2 / M1 * np.sqrt((2 + (gamma - 1) * np.power(M1, 2)) / (2 + (gamma - 1) * np.power(M2, 2)))\n",
    "RHOanalytical = rho * (M2 / M1 * np.sqrt((2 + (gamma - 1) * np.power(M1, 2)) / (2 + (gamma - 1) * np.power(M2, 2))))**-1\n",
    "\n",
    "\n",
    "\n",
    "# ODE Setup\n",
    "# Setup up For ODE SOlver\n",
    "xStart = 0.\n",
    "xEnd = 1.20990013e+02\n",
    "xLen = 100000\n",
    "xspan = np.linspace(xStart, xEnd, xLen)\n",
    "\n",
    "# Geometry Array\n",
    "D_arr1 = np.linspace(0.1, D, int(xLen/5))\n",
    "D_arr2 = D * np.ones(int(3 * xLen / 5))\n",
    "D_arr3 = np.linspace(D, 0.05, int(xLen / 5))\n",
    "D_arr = np.hstack([D_arr1, D_arr2, D_arr3])\n",
    "# D_arr = D * np.ones(xLen)\n",
    "\n",
    "# Setting Up initial conditions\n",
    "P01 = P1 * (1 + (gamma - 1) / 2 * np.power(M1, 2)) ** (gamma / (gamma - 1))\n",
    "T01 = T1 * (1 + (gamma - 1) / 2 * np.power(M1, 2))\n",
    "IC = np.array([M1, vel, P01, P1, T01, T1, rho])\n",
    "\n",
    "# ODE Solver Call\n",
    "# test = GF.GeneralFlow(x_arr=xspan, D_arr=D_arr, Cp=Cp, gamma=gamma, q=0.0)\n",
    "# test.setIC(M1, vel, P01, P1, T01, T1, rho, visc, epsilon)\n",
    "# results = test.run()\n",
    "# length = results['x']\n",
    "# Mach = results['Mach']\n",
    "# test.xdotSolve(0, IC)\n",
    "# IC"
   ]
  },
  {
   "cell_type": "code",
   "execution_count": null,
   "metadata": {},
   "outputs": [],
   "source": []
  },
  {
   "cell_type": "code",
   "execution_count": 5,
   "metadata": {},
   "outputs": [],
   "source": [
    "# ODE Solver Call\n",
    "# test = GF.GeneralFlow(x_arr=xspan, D_arr=D_arr, Cp=Cp, gamma=gamma, q=0.0)\n",
    "# test.setICBeta(M1, vel, P1, T1, rho1, visc, epsilon)\n",
    "# results = test.runBeta()\n",
    "# lengthBeta = results['x']\n",
    "# MachBeta = np.array(results['Mach'])\n",
    "# pressBeta = np.array(results['P'])\n",
    "# tempBeta = np.array(results['T'])\n",
    "# print(results['reason'])"
   ]
  },
  {
   "cell_type": "code",
   "execution_count": 6,
   "metadata": {},
   "outputs": [],
   "source": [
    "# MachBeta[-1]"
   ]
  },
  {
   "cell_type": "code",
   "execution_count": 7,
   "metadata": {},
   "outputs": [],
   "source": [
    "# xtest = np.array(results['x'])\n",
    "# Mtest = np.array(results['Mach'])\n",
    "# Vtest = np.array(results['Vel'])\n",
    "# atest = np.array(results['a'])\n",
    "# Ttest = np.array(results['T'])\n",
    "# rhotest = np.array(results['rho'])\n",
    "# Ptest = np.array(results['P'])\n",
    "\n",
    "# testEntry = [Mtest[-1], Vtest[-1], atest[-1], Ttest[-1], rhotest[-1], Ptest[-1]]\n",
    "# testEntry = np.array(testEntry)\n",
    "\n",
    "# # idk = np.array(xtest[-1], testEntry)\n",
    "# test.xdotSolveBeta(xtest[-1], testEntry)"
   ]
  },
  {
   "cell_type": "markdown",
   "metadata": {},
   "source": [
    "# Testing Fanno Flow"
   ]
  },
  {
   "cell_type": "code",
   "execution_count": 8,
   "metadata": {},
   "outputs": [],
   "source": [
    "# plt.plot(L, Panalytical, color='Red', label='Analytical')\n",
    "# plt.plot(lengthBeta, pressBeta, color='Purple', label='Numerical New')\n",
    "# plt.grid()\n",
    "# plt.legend()\n",
    "# plt.ylabel('Pressure')\n",
    "# plt.xlabel('Length of Pipe')\n",
    "# plt.title('Pipe Length')"
   ]
  },
  {
   "cell_type": "code",
   "execution_count": 9,
   "metadata": {},
   "outputs": [],
   "source": [
    "# plt.plot(L, Tanalytical, color='Red', label='Analytical')\n",
    "# plt.plot(lengthBeta, tempBeta, color='Purple', label='Numerical New')\n",
    "# plt.grid()\n",
    "# plt.legend()\n",
    "# plt.ylabel('Temperature')\n",
    "# plt.xlabel('Length of Pipe')\n",
    "# plt.title('Pipe Length')"
   ]
  },
  {
   "cell_type": "code",
   "execution_count": 10,
   "metadata": {},
   "outputs": [],
   "source": [
    "# plt.plot(L, M2, color='Red', label='Analytical')\n",
    "# plt.plot(lengthBeta, MachBeta, color='Purple', label='Numerical New')\n",
    "# plt.grid()\n",
    "# plt.legend()\n",
    "# plt.ylabel('Mach Number')\n",
    "# plt.xlabel('Length of Pipe')\n",
    "# plt.title('Pipe Length')"
   ]
  },
  {
   "cell_type": "code",
   "execution_count": 11,
   "metadata": {},
   "outputs": [],
   "source": [
    "# plt.plot(xspan, D_arr)"
   ]
  },
  {
   "cell_type": "markdown",
   "metadata": {},
   "source": [
    "# Testing Area Change"
   ]
  },
  {
   "cell_type": "code",
   "execution_count": 12,
   "metadata": {},
   "outputs": [],
   "source": [
    "# # ODE Solver Call\n",
    "# xspan = np.linspace(0, 2)\n",
    "# D_arr = np.linspace(2, 0.5)\n",
    "\n",
    "# test = GF.GeneralFlow(x_arr=xspan, D_arr=D_arr, Cp=Cp, gamma=gamma, q=0.0)\n",
    "# test.setICBeta(M1, vel, P1, T1, rho1, visc, epsilon)\n",
    "# results = test.runBeta()\n",
    "# lengthBeta = results['x']\n",
    "# MachBeta = np.array(results['Mach'])\n",
    "# pressBeta = np.array(results['P'])\n",
    "# tempBeta = np.array(results['T'])\n",
    "# print(results['reason'])"
   ]
  },
  {
   "cell_type": "code",
   "execution_count": 13,
   "metadata": {},
   "outputs": [],
   "source": [
    "# Analytical Results\n",
    "# Mfunc = \n",
    "# spy.fsolve()\n",
    "\n",
    "# plt.plot(results['x'], results['Mach'])"
   ]
  },
  {
   "cell_type": "markdown",
   "metadata": {},
   "source": [
    "# Engine Nozzle"
   ]
  },
  {
   "cell_type": "code",
   "execution_count": 14,
   "metadata": {},
   "outputs": [
    {
     "data": {
      "image/png": "[encoded data removed]",
      "text/plain": [
       "<Figure size 1200x1000 with 1 Axes>"
      ]
     },
     "metadata": {},
     "output_type": "display_data"
    }
   ],
   "source": [
    "# Testing Block\n",
    "nozzleData = pd.read_csv('Nozzle.csv')\n",
    "plt.plot(nozzleData['X'], nozzleData['R'])\n",
    "plt.gca().axis('equal')\n",
    "plt.grid()"
   ]
  },
  {
   "cell_type": "code",
   "execution_count": 15,
   "metadata": {},
   "outputs": [
    {
     "name": "stdout",
     "output_type": "stream",
     "text": [
      "139.09709928496616\n"
     ]
    },
    {
     "data": {
      "text/html": [
       "<div>\n",
       "<style scoped>\n",
       "    .dataframe tbody tr th:only-of-type {\n",
       "        vertical-align: middle;\n",
       "    }\n",
       "\n",
       "    .dataframe tbody tr th {\n",
       "        vertical-align: top;\n",
       "    }\n",
       "\n",
       "    .dataframe thead th {\n",
       "        text-align: right;\n",
       "    }\n",
       "</style>\n",
       "<table border=\"1\" class=\"dataframe\">\n",
       "  <thead>\n",
       "    <tr style=\"text-align: right;\">\n",
       "      <th></th>\n",
       "      <th>x</th>\n",
       "      <th>Mach</th>\n",
       "      <th>Vel</th>\n",
       "      <th>a</th>\n",
       "      <th>T</th>\n",
       "      <th>rho</th>\n",
       "      <th>P</th>\n",
       "      <th>reason</th>\n",
       "    </tr>\n",
       "  </thead>\n",
       "  <tbody>\n",
       "    <tr>\n",
       "      <th>0</th>\n",
       "      <td>-0.430550</td>\n",
       "      <td>0.1530</td>\n",
       "      <td>139.097099</td>\n",
       "      <td>955.639758</td>\n",
       "      <td>2500.000000</td>\n",
       "      <td>4.600282</td>\n",
       "      <td>3.000000e+06</td>\n",
       "      <td>The solver successfully reached the end of the...</td>\n",
       "    </tr>\n",
       "    <tr>\n",
       "      <th>1</th>\n",
       "      <td>-0.430534</td>\n",
       "      <td>0.1530</td>\n",
       "      <td>139.097099</td>\n",
       "      <td>955.639758</td>\n",
       "      <td>2500.000000</td>\n",
       "      <td>4.600282</td>\n",
       "      <td>3.000000e+06</td>\n",
       "      <td>The solver successfully reached the end of the...</td>\n",
       "    </tr>\n",
       "    <tr>\n",
       "      <th>2</th>\n",
       "      <td>-0.430518</td>\n",
       "      <td>0.1530</td>\n",
       "      <td>139.097099</td>\n",
       "      <td>955.639758</td>\n",
       "      <td>2500.000000</td>\n",
       "      <td>4.600282</td>\n",
       "      <td>3.000000e+06</td>\n",
       "      <td>The solver successfully reached the end of the...</td>\n",
       "    </tr>\n",
       "    <tr>\n",
       "      <th>3</th>\n",
       "      <td>-0.430501</td>\n",
       "      <td>0.1530</td>\n",
       "      <td>139.097099</td>\n",
       "      <td>955.639758</td>\n",
       "      <td>2500.000000</td>\n",
       "      <td>4.600282</td>\n",
       "      <td>3.000000e+06</td>\n",
       "      <td>The solver successfully reached the end of the...</td>\n",
       "    </tr>\n",
       "    <tr>\n",
       "      <th>4</th>\n",
       "      <td>-0.430485</td>\n",
       "      <td>0.1530</td>\n",
       "      <td>139.097099</td>\n",
       "      <td>955.639758</td>\n",
       "      <td>2500.000000</td>\n",
       "      <td>4.600282</td>\n",
       "      <td>3.000000e+06</td>\n",
       "      <td>The solver successfully reached the end of the...</td>\n",
       "    </tr>\n",
       "    <tr>\n",
       "      <th>...</th>\n",
       "      <td>...</td>\n",
       "      <td>...</td>\n",
       "      <td>...</td>\n",
       "      <td>...</td>\n",
       "      <td>...</td>\n",
       "      <td>...</td>\n",
       "      <td>...</td>\n",
       "      <td>...</td>\n",
       "    </tr>\n",
       "    <tr>\n",
       "      <th>99995</th>\n",
       "      <td>1.197943</td>\n",
       "      <td>0.9999</td>\n",
       "      <td>854.178499</td>\n",
       "      <td>897.965461</td>\n",
       "      <td>2207.348238</td>\n",
       "      <td>2.912870</td>\n",
       "      <td>1.677215e+06</td>\n",
       "      <td>The solver successfully reached the end of the...</td>\n",
       "    </tr>\n",
       "    <tr>\n",
       "      <th>99996</th>\n",
       "      <td>1.197959</td>\n",
       "      <td>0.9999</td>\n",
       "      <td>854.178499</td>\n",
       "      <td>897.965461</td>\n",
       "      <td>2207.348238</td>\n",
       "      <td>2.912870</td>\n",
       "      <td>1.677215e+06</td>\n",
       "      <td>The solver successfully reached the end of the...</td>\n",
       "    </tr>\n",
       "    <tr>\n",
       "      <th>99997</th>\n",
       "      <td>1.197976</td>\n",
       "      <td>0.9999</td>\n",
       "      <td>854.178499</td>\n",
       "      <td>897.965461</td>\n",
       "      <td>2207.348238</td>\n",
       "      <td>2.912870</td>\n",
       "      <td>1.677215e+06</td>\n",
       "      <td>The solver successfully reached the end of the...</td>\n",
       "    </tr>\n",
       "    <tr>\n",
       "      <th>99998</th>\n",
       "      <td>1.197992</td>\n",
       "      <td>0.9999</td>\n",
       "      <td>854.178499</td>\n",
       "      <td>897.965461</td>\n",
       "      <td>2207.348238</td>\n",
       "      <td>2.912870</td>\n",
       "      <td>1.677215e+06</td>\n",
       "      <td>The solver successfully reached the end of the...</td>\n",
       "    </tr>\n",
       "    <tr>\n",
       "      <th>99999</th>\n",
       "      <td>1.198008</td>\n",
       "      <td>0.9999</td>\n",
       "      <td>854.178499</td>\n",
       "      <td>897.965461</td>\n",
       "      <td>2207.348238</td>\n",
       "      <td>2.912870</td>\n",
       "      <td>1.677215e+06</td>\n",
       "      <td>The solver successfully reached the end of the...</td>\n",
       "    </tr>\n",
       "  </tbody>\n",
       "</table>\n",
       "<p>100000 rows × 8 columns</p>\n",
       "</div>"
      ],
      "text/plain": [
       "              x    Mach         Vel           a            T       rho  \\\n",
       "0     -0.430550  0.1530  139.097099  955.639758  2500.000000  4.600282   \n",
       "1     -0.430534  0.1530  139.097099  955.639758  2500.000000  4.600282   \n",
       "2     -0.430518  0.1530  139.097099  955.639758  2500.000000  4.600282   \n",
       "3     -0.430501  0.1530  139.097099  955.639758  2500.000000  4.600282   \n",
       "4     -0.430485  0.1530  139.097099  955.639758  2500.000000  4.600282   \n",
       "...         ...     ...         ...         ...          ...       ...   \n",
       "99995  1.197943  0.9999  854.178499  897.965461  2207.348238  2.912870   \n",
       "99996  1.197959  0.9999  854.178499  897.965461  2207.348238  2.912870   \n",
       "99997  1.197976  0.9999  854.178499  897.965461  2207.348238  2.912870   \n",
       "99998  1.197992  0.9999  854.178499  897.965461  2207.348238  2.912870   \n",
       "99999  1.198008  0.9999  854.178499  897.965461  2207.348238  2.912870   \n",
       "\n",
       "                  P                                             reason  \n",
       "0      3.000000e+06  The solver successfully reached the end of the...  \n",
       "1      3.000000e+06  The solver successfully reached the end of the...  \n",
       "2      3.000000e+06  The solver successfully reached the end of the...  \n",
       "3      3.000000e+06  The solver successfully reached the end of the...  \n",
       "4      3.000000e+06  The solver successfully reached the end of the...  \n",
       "...             ...                                                ...  \n",
       "99995  1.677215e+06  The solver successfully reached the end of the...  \n",
       "99996  1.677215e+06  The solver successfully reached the end of the...  \n",
       "99997  1.677215e+06  The solver successfully reached the end of the...  \n",
       "99998  1.677215e+06  The solver successfully reached the end of the...  \n",
       "99999  1.677215e+06  The solver successfully reached the end of the...  \n",
       "\n",
       "[100000 rows x 8 columns]"
      ]
     },
     "execution_count": 15,
     "metadata": {},
     "output_type": "execute_result"
    }
   ],
   "source": [
    "Pc = 30 * u.bar\n",
    "Tc = 2500 * u.degreeK\n",
    "commodity = 'Oxygen'\n",
    "\n",
    "\n",
    "\n",
    "Cp = CP.PropsSI('CPMASS',\n",
    "                'T', Tc.to('degreeK').magnitude,\n",
    "                'P', Pc.to('Pa').magnitude,\n",
    "                commodity)\n",
    "\n",
    "gamma = Cp / CP.PropsSI('CVMASS',\n",
    "                        'T', Tc.to('degreeK').magnitude,\n",
    "                        'P', Pc.to('Pa').magnitude,\n",
    "                        commodity)\n",
    "\n",
    "rho1 = CP.PropsSI('D',\n",
    "                 'T', Tc.to('degreeK').magnitude,\n",
    "                 'P', Pc.to('Pa').magnitude,\n",
    "                 commodity)\n",
    "\n",
    "visc = CP.PropsSI('V',\n",
    "                  'T', Tc.to('degreeK').magnitude,\n",
    "                  'P', Pc.to('Pa').magnitude,\n",
    "                  commodity)\n",
    "\n",
    "MW = CP.PropsSI('M',\n",
    "                'T', Tc.to('degreeK').magnitude,\n",
    "                'P', Pc.to('Pa').magnitude,\n",
    "                commodity)\n",
    "\n",
    "nozzX = (np.array(nozzleData['X']) * u.feet).to('meter').magnitude\n",
    "nozzD = (2 * np.array(nozzleData['R']) * u.inches).to('meter').magnitude\n",
    "epsilon = 1e-05\n",
    "\n",
    "\n",
    "M1 = 0.153\n",
    "vel1 = M1 * np.sqrt(gamma * 8314 / MW / 1000 * Tc.magnitude)\n",
    "print(vel1)\n",
    "\n",
    "nozzle = GF.GeneralFlow(x_arr=nozzX,\n",
    "                        D_arr = nozzD,\n",
    "                        pointNum=100000,\n",
    "                        Cp=Cp,\n",
    "                        gamma=gamma)\n",
    "nozzle.setICBeta(M1, vel1, Pc.to('Pa').magnitude, Tc.magnitude, rho1, visc, epsilon)\n",
    "data = nozzle.runBeta()\n",
    "data"
   ]
  },
  {
   "cell_type": "code",
   "execution_count": 16,
   "metadata": {},
   "outputs": [
    {
     "data": {
      "text/plain": [
       "62.000124000248015"
      ]
     },
     "execution_count": 16,
     "metadata": {},
     "output_type": "execute_result"
    }
   ],
   "source": [
    "max(D_arr)**2 / (min(D_arr)**2)"
   ]
  },
  {
   "cell_type": "code",
   "execution_count": 17,
   "metadata": {},
   "outputs": [
    {
     "data": {
      "text/plain": [
       "(array([19999, 20000, 20001, ..., 79998, 79999, 80000]),)"
      ]
     },
     "execution_count": 17,
     "metadata": {},
     "output_type": "execute_result"
    }
   ],
   "source": [
    "np.where(D_arr == min(D_arr))"
   ]
  },
  {
   "cell_type": "code",
   "execution_count": 18,
   "metadata": {},
   "outputs": [
    {
     "data": {
      "text/plain": [
       "0.9999000039380813"
      ]
     },
     "execution_count": 18,
     "metadata": {},
     "output_type": "execute_result"
    }
   ],
   "source": [
    "np.array(data['Mach'])[-1]"
   ]
  },
  {
   "cell_type": "code",
   "execution_count": 19,
   "metadata": {},
   "outputs": [
    {
     "data": {
      "text/plain": [
       "[<matplotlib.lines.Line2D at 0x7f4a55b990>]"
      ]
     },
     "execution_count": 19,
     "metadata": {},
     "output_type": "execute_result"
    },
    {
     "data": {
      "image/png": "[encoded data removed]",
      "text/plain": [
       "<Figure size 1200x1000 with 1 Axes>"
      ]
     },
     "metadata": {},
     "output_type": "display_data"
    }
   ],
   "source": [
    "plt.plot(data['x'], data['Mach'])"
   ]
  },
  {
   "cell_type": "code",
   "execution_count": 20,
   "metadata": {},
   "outputs": [
    {
     "data": {
      "text/plain": [
       "(array([0]),)"
      ]
     },
     "execution_count": 20,
     "metadata": {},
     "output_type": "execute_result"
    }
   ],
   "source": [
    "testArr = np.array(data['x'])\n",
    "\n",
    "max(D_arr)**2 / min(D_arr)**2\n",
    "\n",
    "np.where(D_arr == max(D_arr))"
   ]
  },
  {
   "cell_type": "code",
   "execution_count": 21,
   "metadata": {},
   "outputs": [
    {
     "data": {
      "text/plain": [
       "43.45151240144341"
      ]
     },
     "execution_count": 21,
     "metadata": {},
     "output_type": "execute_result"
    }
   ],
   "source": [
    "max(nozzD)**2 / min(nozzD)**2"
   ]
  }
 ],
 "metadata": {
  "kernelspec": {
   "display_name": "science",
   "language": "python",
   "name": "python3"
  },
  "language_info": {
   "codemirror_mode": {
    "name": "ipython",
    "version": 3
   },
   "file_extension": ".py",
   "mimetype": "text/x-python",
   "name": "python",
   "nbconvert_exporter": "python",
   "pygments_lexer": "ipython3",
   "version": "3.11.2"
  }
 },
 "nbformat": 4,
 "nbformat_minor": 2
}
